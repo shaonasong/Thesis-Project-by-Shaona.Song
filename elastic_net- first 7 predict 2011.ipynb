{
 "cells": [
  {
   "cell_type": "code",
   "execution_count": 2,
   "metadata": {
    "collapsed": true
   },
   "outputs": [],
   "source": [
    "%matplotlib inline\n",
    "import json\n",
    "import pandas as pd\n",
    "import numpy as np\n",
    "import matplotlib.pyplot as plt\n",
    "import matplotlib.mlab as mlab\n",
    "import seaborn as sns\n",
    "from pandas import read_csv\n",
    "from pandas import datetime\n",
    "from matplotlib import pyplot\n",
    "from matplotlib.pylab import rcParams\n",
    "import matplotlib.pylab as plt\n",
    "%matplotlib inline\n",
    "import matplotlib.mlab as mlab\n",
    "from scipy import stats \n",
    "rcParams['figure.figsize'] = 10, 5"
   ]
  },
  {
   "cell_type": "code",
   "execution_count": 3,
   "metadata": {
    "collapsed": false
   },
   "outputs": [],
   "source": [
    "dateparse = lambda dates: pd.datetime.strptime(dates, '%Y-%m-%d')\n",
    "data=pd.read_csv('rates_query.csv',parse_dates=['Week'],index_col=0,date_parser=dateparse)"
   ]
  },
  {
   "cell_type": "code",
   "execution_count": 4,
   "metadata": {
    "collapsed": false
   },
   "outputs": [
    {
     "data": {
      "text/html": [
       "<div>\n",
       "<table border=\"1\" class=\"dataframe\">\n",
       "  <thead>\n",
       "    <tr style=\"text-align: right;\">\n",
       "      <th></th>\n",
       "      <th>rates</th>\n",
       "      <th>acetaminophen</th>\n",
       "      <th>aching muscles</th>\n",
       "      <th>blocked nose</th>\n",
       "      <th>cold flu</th>\n",
       "      <th>cold remedy</th>\n",
       "      <th>cold remedies</th>\n",
       "      <th>common cold</th>\n",
       "      <th>the common cold</th>\n",
       "      <th>common cold cure</th>\n",
       "      <th>...</th>\n",
       "      <th>antipyretics</th>\n",
       "      <th>ear thermometer</th>\n",
       "      <th>earache</th>\n",
       "      <th>fatigue</th>\n",
       "      <th>feverish</th>\n",
       "      <th>high fever</th>\n",
       "      <th>respirator</th>\n",
       "      <th>stuffy nose</th>\n",
       "      <th>thermometer</th>\n",
       "      <th>upper respiratory infection</th>\n",
       "    </tr>\n",
       "    <tr>\n",
       "      <th>Week</th>\n",
       "      <th></th>\n",
       "      <th></th>\n",
       "      <th></th>\n",
       "      <th></th>\n",
       "      <th></th>\n",
       "      <th></th>\n",
       "      <th></th>\n",
       "      <th></th>\n",
       "      <th></th>\n",
       "      <th></th>\n",
       "      <th></th>\n",
       "      <th></th>\n",
       "      <th></th>\n",
       "      <th></th>\n",
       "      <th></th>\n",
       "      <th></th>\n",
       "      <th></th>\n",
       "      <th></th>\n",
       "      <th></th>\n",
       "      <th></th>\n",
       "      <th></th>\n",
       "    </tr>\n",
       "  </thead>\n",
       "  <tbody>\n",
       "    <tr>\n",
       "      <th>2004-01-04</th>\n",
       "      <td>152.13</td>\n",
       "      <td>39</td>\n",
       "      <td>39</td>\n",
       "      <td>88</td>\n",
       "      <td>44</td>\n",
       "      <td>0</td>\n",
       "      <td>0</td>\n",
       "      <td>47</td>\n",
       "      <td>0</td>\n",
       "      <td>0</td>\n",
       "      <td>...</td>\n",
       "      <td>0</td>\n",
       "      <td>0</td>\n",
       "      <td>60</td>\n",
       "      <td>70</td>\n",
       "      <td>0</td>\n",
       "      <td>0</td>\n",
       "      <td>41</td>\n",
       "      <td>0</td>\n",
       "      <td>65</td>\n",
       "      <td>0</td>\n",
       "    </tr>\n",
       "  </tbody>\n",
       "</table>\n",
       "<p>1 rows × 42 columns</p>\n",
       "</div>"
      ],
      "text/plain": [
       "             rates  acetaminophen  aching muscles  blocked nose  cold flu  \\\n",
       "Week                                                                        \n",
       "2004-01-04  152.13             39              39            88        44   \n",
       "\n",
       "            cold remedy  cold remedies  common cold  the common cold  \\\n",
       "Week                                                                   \n",
       "2004-01-04            0              0           47                0   \n",
       "\n",
       "            common cold cure             ...               antipyretics  \\\n",
       "Week                                     ...                              \n",
       "2004-01-04                 0             ...                          0   \n",
       "\n",
       "            ear thermometer  earache  fatigue  feverish  high fever  \\\n",
       "Week                                                                  \n",
       "2004-01-04                0       60       70         0           0   \n",
       "\n",
       "            respirator  stuffy nose  thermometer  upper respiratory infection  \n",
       "Week                                                                           \n",
       "2004-01-04          41            0           65                            0  \n",
       "\n",
       "[1 rows x 42 columns]"
      ]
     },
     "execution_count": 4,
     "metadata": {},
     "output_type": "execute_result"
    }
   ],
   "source": [
    "data[0:1]"
   ]
  },
  {
   "cell_type": "code",
   "execution_count": 5,
   "metadata": {
    "collapsed": false
   },
   "outputs": [
    {
     "data": {
      "text/plain": [
       "Index(['rates', 'acetaminophen', 'aching muscles', 'blocked nose', 'cold flu',\n",
       "       'cold remedy', 'cold remedies', 'common cold', 'the common cold',\n",
       "       'common cold cure', 'common cold symptoms', 'common cold virus',\n",
       "       'common cold nhs', 'cough', 'cough syrup', 'fever', 'headache',\n",
       "       'high temperature', 'hoarse voice', 'ibuprofen', 'loss of smell',\n",
       "       'loss of taste', 'loss of taste and smell', 'muscle pain',\n",
       "       'nasalcongestion', 'paracetamol', 'runny nose', 'sneezing',\n",
       "       'sore throat', 'post nasal drip', 'coughing', 'nasal passages',\n",
       "       'antipyretics', 'ear thermometer', 'earache', 'fatigue', 'feverish',\n",
       "       'high fever', 'respirator', 'stuffy nose', 'thermometer',\n",
       "       'upper respiratory infection'],\n",
       "      dtype='object')"
      ]
     },
     "execution_count": 5,
     "metadata": {},
     "output_type": "execute_result"
    }
   ],
   "source": [
    "data.columns"
   ]
  },
  {
   "cell_type": "code",
   "execution_count": 6,
   "metadata": {
    "collapsed": false
   },
   "outputs": [
    {
     "data": {
      "text/plain": [
       "DatetimeIndex(['2011-01-09', '2011-01-16', '2011-01-23', '2011-01-30',\n",
       "               '2011-02-06', '2011-02-13', '2011-02-20', '2011-02-27',\n",
       "               '2011-03-06', '2011-03-13', '2011-03-20', '2011-03-27',\n",
       "               '2011-04-03', '2011-04-10', '2011-04-17', '2011-04-24',\n",
       "               '2011-05-01', '2011-05-08', '2011-05-15', '2011-05-22',\n",
       "               '2011-05-29', '2011-06-05', '2011-06-12', '2011-06-19',\n",
       "               '2011-06-26', '2011-07-03', '2011-07-10', '2011-07-17',\n",
       "               '2011-07-24', '2011-07-31', '2011-08-07', '2011-08-14',\n",
       "               '2011-08-21', '2011-08-28', '2011-09-04', '2011-09-11',\n",
       "               '2011-09-18', '2011-09-25', '2011-10-02', '2011-10-09',\n",
       "               '2011-10-16', '2011-10-23', '2011-10-30', '2011-11-06',\n",
       "               '2011-11-13', '2011-11-20', '2011-11-27', '2011-12-04',\n",
       "               '2011-12-11', '2011-12-18', '2011-12-25', '2012-01-01'],\n",
       "              dtype='datetime64[ns]', name='Week', freq=None)"
      ]
     },
     "execution_count": 6,
     "metadata": {},
     "output_type": "execute_result"
    }
   ],
   "source": [
    "train, valid = data[0:366], data[366:418]\n",
    "L=data.index[366:418]\n",
    "L"
   ]
  },
  {
   "cell_type": "code",
   "execution_count": 7,
   "metadata": {
    "collapsed": false
   },
   "outputs": [],
   "source": [
    "features=['acetaminophen', \n",
    "          'aching muscles', \n",
    "          'blocked nose',\n",
    "          'cold flu', \n",
    "          'cold remedy',\n",
    "          'cold remedies', \n",
    "          'common cold',\n",
    "          'the common cold', \n",
    "          'common cold cure',\n",
    "          'common cold symptoms',\n",
    "          'common cold virus', \n",
    "          'common cold nhs',\n",
    "          'cough',\n",
    "          'cough syrup', \n",
    "          'fever',\n",
    "          'headache', \n",
    "          'high temperature', \n",
    "          'hoarse voice', \n",
    "          'ibuprofen',\n",
    "          'loss of smell', \n",
    "          'loss of taste',\n",
    "          'loss of taste and smell',\n",
    "          'muscle pain',\n",
    "          'nasalcongestion',\n",
    "          'paracetamol',\n",
    "          'runny nose',\n",
    "          'sneezing', \n",
    "          'sore throat',\n",
    "          'post nasal drip', \n",
    "          'coughing',\n",
    "          'nasal passages',\n",
    "          'antipyretics',\n",
    "          'ear thermometer', \n",
    "          'earache', \n",
    "          'fatigue',\n",
    "          'feverish',\n",
    "          'high fever',\n",
    "          'respirator',\n",
    "          'stuffy nose',\n",
    "          'thermometer',\n",
    "          'upper respiratory infection'\n",
    "         ]\n",
    "\n",
    "x_train = train[features]\n",
    "y_train = train['rates'].values\n",
    "\n",
    "\n",
    "x_valid = valid[features]\n",
    "y_valid = valid['rates'].values"
   ]
  },
  {
   "cell_type": "code",
   "execution_count": null,
   "metadata": {
    "collapsed": false,
    "scrolled": false
   },
   "outputs": [],
   "source": [
    "#train.corr(method='pearson')"
   ]
  },
  {
   "cell_type": "markdown",
   "metadata": {
    "collapsed": false
   },
   "source": [
    "### Least Square"
   ]
  },
  {
   "cell_type": "code",
   "execution_count": 8,
   "metadata": {
    "collapsed": false
   },
   "outputs": [],
   "source": [
    "from sklearn.linear_model import LinearRegression\n",
    "lr = LinearRegression(fit_intercept=True, normalize=False, copy_X=True, n_jobs=1)\n",
    "lr.fit(x_train, y_train)\n",
    "y_pred2 = lr.fit(x_train, y_train).predict(x_valid)"
   ]
  },
  {
   "cell_type": "code",
   "execution_count": 43,
   "metadata": {
    "collapsed": false
   },
   "outputs": [
    {
     "name": "stdout",
     "output_type": "stream",
     "text": [
      "lr picked 41 variables and eliminated the other 0 variables\n"
     ]
    },
    {
     "data": {
      "text/plain": [
       "<matplotlib.text.Text at 0x1214eec50>"
      ]
     },
     "execution_count": 43,
     "metadata": {},
     "output_type": "execute_result"
    },
    {
     "data": {
      "image/png": "[encoded data removed]",
      "text/plain": [
       "<matplotlib.figure.Figure at 0x120c53cf8>"
      ]
     },
     "metadata": {},
     "output_type": "display_data"
    }
   ],
   "source": [
    "coef = pd.Series(lr.coef_, index = x_train.columns)\n",
    "#imp_coef = pd.concat([coef.sort_values().head(10),\n",
    "                     #coef.sort_values().tail(10)])\n",
    "print(\"lr picked \" + str(sum(coef != 0)) + \" variables and eliminated the other \" + \n",
    "      str(sum(coef == 0)) + \" variables\")\n",
    "imp_coef = pd.concat([coef.sort_values()])\n",
    "plt.rcParams['figure.figsize'] = (8.0, 10.0)\n",
    "imp_coef.plot(kind = \"barh\")\n",
    "plt.title(\"Coefficients in the linear lesat square regression for training year 2004-2010\")"
   ]
  },
  {
   "cell_type": "markdown",
   "metadata": {},
   "source": [
    "### Elastic Net"
   ]
  },
  {
   "cell_type": "code",
   "execution_count": 28,
   "metadata": {
    "collapsed": true
   },
   "outputs": [],
   "source": [
    "from sklearn.linear_model import ElasticNet\n",
    "enet = ElasticNet(alpha=193.0, l1_ratio=0.7,fit_intercept=True,max_iter=10000,tol=0.00001,normalize=False)\n",
    "enet.fit(x_train, y_train)\n",
    "y_pred = enet.fit(x_train, y_train).predict(x_valid)"
   ]
  },
  {
   "cell_type": "code",
   "execution_count": 11,
   "metadata": {
    "collapsed": true
   },
   "outputs": [],
   "source": [
    "y2011 = pd.DataFrame(y_pred, columns = ['predicted rate'])\n",
    "y2011.to_csv('y2011.csv')"
   ]
  },
  {
   "cell_type": "markdown",
   "metadata": {},
   "source": [
    "### Grid Search"
   ]
  },
  {
   "cell_type": "code",
   "execution_count": 29,
   "metadata": {
    "collapsed": false
   },
   "outputs": [
    {
     "data": {
      "text/plain": [
       "GridSearchCV(cv=10, error_score='raise',\n",
       "       estimator=ElasticNet(alpha=1.0, copy_X=True, fit_intercept=True, l1_ratio=0.5,\n",
       "      max_iter=20000, normalize=False, positive=False, precompute=False,\n",
       "      random_state=None, selection='cyclic', tol=1e-05, warm_start=False),\n",
       "       fit_params={}, iid=True, n_jobs=1,\n",
       "       param_grid={'alpha': [193], 'l1_ratio': [0.7]},\n",
       "       pre_dispatch='2*n_jobs', refit=True, return_train_score=True,\n",
       "       scoring='neg_mean_squared_error', verbose=0)"
      ]
     },
     "execution_count": 29,
     "metadata": {},
     "output_type": "execute_result"
    }
   ],
   "source": [
    "from sklearn.linear_model import ElasticNet\n",
    "from sklearn.model_selection import GridSearchCV\n",
    "#parameters = {'alpha': [0,10,20,30,40,50,60,70,80,90,100],'l1_ratio':[0,0.1,0.2,0.3,0.4,0.5,0.6,0.7,0.8,0.9,1] }\n",
    "#parameters = {'alpha': [0,50,100],'l1_ratio':np.arange(0,1,0.1) }\n",
    "#parameters = {'alpha': np.arange (0,100,1),'l1_ratio':np.arange(0,1,0.1)}\n",
    "parameters = {'alpha': [193],'l1_ratio':[0.7]} \n",
    "#parameters = {'alpha': [150],'l1_ratio':[0.5]}\n",
    "#parameters = {'alpha':np.arange (0.01,200,0.01),'l1_ratio':[0.7]}\n",
    "clf = GridSearchCV(ElasticNet(fit_intercept=True,max_iter=20000,tol=0.00001,normalize=False),\n",
    "                   parameters,scoring='neg_mean_squared_error',cv=10)\n",
    "clf.fit(x_train, y_train)"
   ]
  },
  {
   "cell_type": "code",
   "execution_count": 30,
   "metadata": {
    "collapsed": true
   },
   "outputs": [],
   "source": [
    "y_pred = clf.predict(x_valid)"
   ]
  },
  {
   "cell_type": "code",
   "execution_count": 31,
   "metadata": {
    "collapsed": false
   },
   "outputs": [
    {
     "data": {
      "text/plain": [
       "{'alpha': 193, 'l1_ratio': 0.7}"
      ]
     },
     "execution_count": 31,
     "metadata": {},
     "output_type": "execute_result"
    }
   ],
   "source": [
    "clf.best_params_"
   ]
  },
  {
   "cell_type": "markdown",
   "metadata": {},
   "source": [
    "### Correlation"
   ]
  },
  {
   "cell_type": "code",
   "execution_count": 32,
   "metadata": {
    "collapsed": false
   },
   "outputs": [
    {
     "data": {
      "text/plain": [
       "array([[ 1.        ,  0.81752371],\n",
       "       [ 0.81752371,  1.        ]])"
      ]
     },
     "execution_count": 32,
     "metadata": {},
     "output_type": "execute_result"
    }
   ],
   "source": [
    "np.corrcoef(y_pred, y_valid)"
   ]
  },
  {
   "cell_type": "code",
   "execution_count": 33,
   "metadata": {
    "collapsed": false
   },
   "outputs": [
    {
     "data": {
      "text/plain": [
       "array([[ 1.        ,  0.87912206],\n",
       "       [ 0.87912206,  1.        ]])"
      ]
     },
     "execution_count": 33,
     "metadata": {},
     "output_type": "execute_result"
    }
   ],
   "source": [
    "np.corrcoef(y_pred2, y_valid)"
   ]
  },
  {
   "cell_type": "markdown",
   "metadata": {},
   "source": [
    "### RMSE"
   ]
  },
  {
   "cell_type": "code",
   "execution_count": 34,
   "metadata": {
    "collapsed": false
   },
   "outputs": [
    {
     "name": "stdout",
     "output_type": "stream",
     "text": [
      "Elastic Net RMSE: 28.1122\n"
     ]
    }
   ],
   "source": [
    "print('Elastic Net RMSE: %.4f'% np.sqrt(sum((y_pred-y_valid)**2)/len(valid)))"
   ]
  },
  {
   "cell_type": "code",
   "execution_count": 35,
   "metadata": {
    "collapsed": false
   },
   "outputs": [
    {
     "name": "stdout",
     "output_type": "stream",
     "text": [
      "Least Square RMSE: 50.4752\n"
     ]
    }
   ],
   "source": [
    "print('Least Square RMSE: %.4f'% np.sqrt(sum((y_pred2-y_valid)**2)/len(valid)))"
   ]
  },
  {
   "cell_type": "markdown",
   "metadata": {},
   "source": [
    "### MAE"
   ]
  },
  {
   "cell_type": "code",
   "execution_count": 36,
   "metadata": {
    "collapsed": false
   },
   "outputs": [
    {
     "data": {
      "text/plain": [
       "24.933619777983328"
      ]
     },
     "execution_count": 36,
     "metadata": {},
     "output_type": "execute_result"
    }
   ],
   "source": [
    "from sklearn.metrics import mean_absolute_error\n",
    "mean_absolute_error(y_valid, y_pred)"
   ]
  },
  {
   "cell_type": "code",
   "execution_count": 37,
   "metadata": {
    "collapsed": false
   },
   "outputs": [
    {
     "data": {
      "text/plain": [
       "46.485211996222915"
      ]
     },
     "execution_count": 37,
     "metadata": {},
     "output_type": "execute_result"
    }
   ],
   "source": [
    "from sklearn.metrics import mean_absolute_error\n",
    "mean_absolute_error(y_valid, y_pred2)"
   ]
  },
  {
   "cell_type": "markdown",
   "metadata": {},
   "source": [
    "### MAPE"
   ]
  },
  {
   "cell_type": "code",
   "execution_count": 38,
   "metadata": {
    "collapsed": true
   },
   "outputs": [],
   "source": [
    "def mean_absolute_percentage_error(y_valid, y_pred): \n",
    "    y_valid, y_pred = np.array(y_valid), np.array(y_pred)\n",
    "    return np.mean(np.abs((y_valid - y_pred) / y_valid)) * 100"
   ]
  },
  {
   "cell_type": "code",
   "execution_count": 39,
   "metadata": {
    "collapsed": false
   },
   "outputs": [
    {
     "data": {
      "text/plain": [
       "33.696566246562234"
      ]
     },
     "execution_count": 39,
     "metadata": {},
     "output_type": "execute_result"
    }
   ],
   "source": [
    "mean_absolute_percentage_error(y_valid, y_pred)"
   ]
  },
  {
   "cell_type": "code",
   "execution_count": 40,
   "metadata": {
    "collapsed": false
   },
   "outputs": [
    {
     "data": {
      "text/plain": [
       "55.452448153353217"
      ]
     },
     "execution_count": 40,
     "metadata": {},
     "output_type": "execute_result"
    }
   ],
   "source": [
    "mean_absolute_percentage_error(y_valid, y_pred2)"
   ]
  },
  {
   "cell_type": "markdown",
   "metadata": {},
   "source": [
    "### Plot Weights"
   ]
  },
  {
   "cell_type": "code",
   "execution_count": 41,
   "metadata": {
    "collapsed": false
   },
   "outputs": [
    {
     "name": "stdout",
     "output_type": "stream",
     "text": [
      "Elastic Net picked 8 variables and eliminated the other 33 variables\n"
     ]
    },
    {
     "data": {
      "text/plain": [
       "<matplotlib.text.Text at 0x1210820f0>"
      ]
     },
     "execution_count": 41,
     "metadata": {},
     "output_type": "execute_result"
    },
    {
     "data": {
      "image/png": "[encoded data removed]",
      "text/plain": [
       "<matplotlib.figure.Figure at 0x120f9de10>"
      ]
     },
     "metadata": {},
     "output_type": "display_data"
    }
   ],
   "source": [
    "coef = pd.Series(enet.coef_, index = x_train.columns)\n",
    "#imp_coef = pd.concat([coef.sort_values().head(10),\n",
    "                     #coef.sort_values().tail(10)])\n",
    "print(\"Elastic Net picked \" + str(sum(coef != 0)) + \" variables and eliminated the other \" + \n",
    "      str(sum(coef == 0)) + \" variables\")\n",
    "imp_coef = pd.concat([coef.sort_values()])\n",
    "plt.rcParams['figure.figsize'] = (8.0, 10.0)\n",
    "imp_coef.plot(kind = \"barh\")\n",
    "plt.title(\"Coefficients in the Elastic Net Model for training year 2004-2010\")"
   ]
  },
  {
   "cell_type": "code",
   "execution_count": 42,
   "metadata": {
    "collapsed": false
   },
   "outputs": [
    {
     "data": {
      "image/png": "[encoded data removed]",
      "text/plain": [
       "<matplotlib.figure.Figure at 0x120d8ba58>"
      ]
     },
     "metadata": {},
     "output_type": "display_data"
    }
   ],
   "source": [
    "L=data.index[366:418]\n",
    "df = pd.DataFrame(data=y_pred, index=L,columns=[\"predicted rate\"])\n",
    "df1 = pd.DataFrame(data=y_valid, index=L,columns=[\"rates\"])\n",
    "df2 = pd.DataFrame(data=y_pred2, index=L,columns=[\"predicted rate\"])\n",
    "plt.figure(figsize=(8.5,4.5))\n",
    "\n",
    "line_up, = plt.plot(df, label='Elastic Net',ls='dashed',c='red')\n",
    "line_middle,=plt.plot(df2, label='Least Square Regression',ls='dashdot',c='blue')\n",
    "line_down, = plt.plot(df1, label='True common_cold Rate',ls='solid',c='green')\n",
    "plt.legend(handles=[line_up,line_middle, line_down])\n",
    "\n",
    "#plt.title('Data from 2004 to 2009 to make the prediction of 2010, RMSE: %.4f'% np.sqrt(sum((y_pred-y_valid)**2)/len(valid)))\n",
    "plt.title('Data from 2004 to 2010 to make the prediction of 2011')\n",
    "plt.ylabel('common_cold rates per 100,000 people')\n",
    "plt.xlabel('testing year')\n",
    "plt.ylim((0, 300))\n",
    "\n",
    "pyplot.show()"
   ]
  },
  {
   "cell_type": "code",
   "execution_count": null,
   "metadata": {
    "collapsed": true
   },
   "outputs": [],
   "source": []
  }
 ],
 "metadata": {
  "anaconda-cloud": {},
  "kernelspec": {
   "display_name": "Python 3",
   "language": "python",
   "name": "python3"
  },
  "language_info": {
   "codemirror_mode": {
    "name": "ipython",
    "version": 3
   },
   "file_extension": ".py",
   "mimetype": "text/x-python",
   "name": "python",
   "nbconvert_exporter": "python",
   "pygments_lexer": "ipython3",
   "version": "3.6.0"
  }
 },
 "nbformat": 4,
 "nbformat_minor": 1
}
