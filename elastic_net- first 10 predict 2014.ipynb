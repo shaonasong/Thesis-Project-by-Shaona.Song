{
 "cells": [
  {
   "cell_type": "code",
   "execution_count": 1,
   "metadata": {
    "collapsed": true
   },
   "outputs": [],
   "source": [
    "%matplotlib inline\n",
    "import json\n",
    "import pandas as pd\n",
    "import numpy as np\n",
    "import matplotlib.pyplot as plt\n",
    "import matplotlib.mlab as mlab\n",
    "import seaborn as sns\n",
    "from pandas import read_csv\n",
    "from pandas import datetime\n",
    "from matplotlib import pyplot\n",
    "from matplotlib.pylab import rcParams\n",
    "#import matplotlib.pylab as plt\n",
    "%matplotlib inline\n",
    "import matplotlib.mlab as mlab\n",
    "from scipy import stats \n",
    "rcParams['figure.figsize'] = 10, 5"
   ]
  },
  {
   "cell_type": "code",
   "execution_count": 2,
   "metadata": {
    "collapsed": false
   },
   "outputs": [
    {
     "data": {
      "text/plain": [
       "657"
      ]
     },
     "execution_count": 2,
     "metadata": {},
     "output_type": "execute_result"
    }
   ],
   "source": [
    "dateparse = lambda dates: pd.datetime.strptime(dates, '%Y-%m-%d')\n",
    "data=pd.read_csv('rates_query.csv',parse_dates=['Week'],index_col=0,date_parser=dateparse)\n",
    "\n",
    "len(data)"
   ]
  },
  {
   "cell_type": "code",
   "execution_count": 3,
   "metadata": {
    "collapsed": false
   },
   "outputs": [
    {
     "data": {
      "text/html": [
       "<div>\n",
       "<table border=\"1\" class=\"dataframe\">\n",
       "  <thead>\n",
       "    <tr style=\"text-align: right;\">\n",
       "      <th></th>\n",
       "      <th>rates</th>\n",
       "      <th>acetaminophen</th>\n",
       "      <th>aching muscles</th>\n",
       "      <th>blocked nose</th>\n",
       "      <th>cold flu</th>\n",
       "      <th>cold remedy</th>\n",
       "      <th>cold remedies</th>\n",
       "      <th>common cold</th>\n",
       "      <th>the common cold</th>\n",
       "      <th>common cold cure</th>\n",
       "      <th>...</th>\n",
       "      <th>antipyretics</th>\n",
       "      <th>ear thermometer</th>\n",
       "      <th>earache</th>\n",
       "      <th>fatigue</th>\n",
       "      <th>feverish</th>\n",
       "      <th>high fever</th>\n",
       "      <th>respirator</th>\n",
       "      <th>stuffy nose</th>\n",
       "      <th>thermometer</th>\n",
       "      <th>upper respiratory infection</th>\n",
       "    </tr>\n",
       "    <tr>\n",
       "      <th>Week</th>\n",
       "      <th></th>\n",
       "      <th></th>\n",
       "      <th></th>\n",
       "      <th></th>\n",
       "      <th></th>\n",
       "      <th></th>\n",
       "      <th></th>\n",
       "      <th></th>\n",
       "      <th></th>\n",
       "      <th></th>\n",
       "      <th></th>\n",
       "      <th></th>\n",
       "      <th></th>\n",
       "      <th></th>\n",
       "      <th></th>\n",
       "      <th></th>\n",
       "      <th></th>\n",
       "      <th></th>\n",
       "      <th></th>\n",
       "      <th></th>\n",
       "      <th></th>\n",
       "    </tr>\n",
       "  </thead>\n",
       "  <tbody>\n",
       "    <tr>\n",
       "      <th>2004-01-04</th>\n",
       "      <td>152.13</td>\n",
       "      <td>39</td>\n",
       "      <td>39</td>\n",
       "      <td>88</td>\n",
       "      <td>44</td>\n",
       "      <td>0</td>\n",
       "      <td>0</td>\n",
       "      <td>47</td>\n",
       "      <td>0</td>\n",
       "      <td>0</td>\n",
       "      <td>...</td>\n",
       "      <td>0</td>\n",
       "      <td>0</td>\n",
       "      <td>60</td>\n",
       "      <td>70</td>\n",
       "      <td>0</td>\n",
       "      <td>0</td>\n",
       "      <td>41</td>\n",
       "      <td>0</td>\n",
       "      <td>65</td>\n",
       "      <td>0</td>\n",
       "    </tr>\n",
       "  </tbody>\n",
       "</table>\n",
       "<p>1 rows × 42 columns</p>\n",
       "</div>"
      ],
      "text/plain": [
       "             rates  acetaminophen  aching muscles  blocked nose  cold flu  \\\n",
       "Week                                                                        \n",
       "2004-01-04  152.13             39              39            88        44   \n",
       "\n",
       "            cold remedy  cold remedies  common cold  the common cold  \\\n",
       "Week                                                                   \n",
       "2004-01-04            0              0           47                0   \n",
       "\n",
       "            common cold cure             ...               antipyretics  \\\n",
       "Week                                     ...                              \n",
       "2004-01-04                 0             ...                          0   \n",
       "\n",
       "            ear thermometer  earache  fatigue  feverish  high fever  \\\n",
       "Week                                                                  \n",
       "2004-01-04                0       60       70         0           0   \n",
       "\n",
       "            respirator  stuffy nose  thermometer  upper respiratory infection  \n",
       "Week                                                                           \n",
       "2004-01-04          41            0           65                            0  \n",
       "\n",
       "[1 rows x 42 columns]"
      ]
     },
     "execution_count": 3,
     "metadata": {},
     "output_type": "execute_result"
    }
   ],
   "source": [
    "data[0:1]"
   ]
  },
  {
   "cell_type": "code",
   "execution_count": 4,
   "metadata": {
    "collapsed": false
   },
   "outputs": [
    {
     "data": {
      "text/plain": [
       "Index(['rates', 'acetaminophen', 'aching muscles', 'blocked nose', 'cold flu',\n",
       "       'cold remedy', 'cold remedies', 'common cold', 'the common cold',\n",
       "       'common cold cure', 'common cold symptoms', 'common cold virus',\n",
       "       'common cold nhs', 'cough', 'cough syrup', 'fever', 'headache',\n",
       "       'high temperature', 'hoarse voice', 'ibuprofen', 'loss of smell',\n",
       "       'loss of taste', 'loss of taste and smell', 'muscle pain',\n",
       "       'nasalcongestion', 'paracetamol', 'runny nose', 'sneezing',\n",
       "       'sore throat', 'post nasal drip', 'coughing', 'nasal passages',\n",
       "       'antipyretics', 'ear thermometer', 'earache', 'fatigue', 'feverish',\n",
       "       'high fever', 'respirator', 'stuffy nose', 'thermometer',\n",
       "       'upper respiratory infection'],\n",
       "      dtype='object')"
      ]
     },
     "execution_count": 4,
     "metadata": {},
     "output_type": "execute_result"
    }
   ],
   "source": [
    "data.columns"
   ]
  },
  {
   "cell_type": "code",
   "execution_count": 5,
   "metadata": {
    "collapsed": false
   },
   "outputs": [
    {
     "data": {
      "text/plain": [
       "DatetimeIndex(['2014-01-05', '2014-01-12', '2014-01-19', '2014-01-26',\n",
       "               '2014-02-02', '2014-02-09', '2014-02-16', '2014-02-23',\n",
       "               '2014-03-02', '2014-03-09', '2014-03-16', '2014-03-23',\n",
       "               '2014-03-30', '2014-04-06', '2014-04-13', '2014-04-20',\n",
       "               '2014-04-27', '2014-05-04', '2014-05-11', '2014-05-18',\n",
       "               '2014-05-25', '2014-06-01', '2014-06-08', '2014-06-15',\n",
       "               '2014-06-22', '2014-06-29', '2014-07-06', '2014-07-13',\n",
       "               '2014-07-20', '2014-07-27', '2014-08-03', '2014-08-10',\n",
       "               '2014-08-17', '2014-08-24', '2014-08-31', '2014-09-07',\n",
       "               '2014-09-14', '2014-09-21', '2014-09-28', '2014-10-05',\n",
       "               '2014-10-12', '2014-10-19', '2014-10-26', '2014-11-02',\n",
       "               '2014-11-09', '2014-11-16', '2014-11-23', '2014-11-30',\n",
       "               '2014-12-07', '2014-12-14', '2014-12-21', '2014-12-28'],\n",
       "              dtype='datetime64[ns]', name='Week', freq=None)"
      ]
     },
     "execution_count": 5,
     "metadata": {},
     "output_type": "execute_result"
    }
   ],
   "source": [
    "train, valid = data[0:522], data[522:574]\n",
    "L=data.index[522:574]\n",
    "L"
   ]
  },
  {
   "cell_type": "code",
   "execution_count": 17,
   "metadata": {
    "collapsed": false
   },
   "outputs": [],
   "source": [
    "features=['acetaminophen', \n",
    "          'aching muscles', \n",
    "          'blocked nose',\n",
    "          'cold flu', \n",
    "          'cold remedy',\n",
    "          'cold remedies', \n",
    "          'common cold',\n",
    "          'the common cold', \n",
    "          'common cold cure',\n",
    "          'common cold symptoms',\n",
    "          'common cold virus', \n",
    "          'common cold nhs',\n",
    "          'cough',\n",
    "          'cough syrup', \n",
    "          'fever',\n",
    "          'headache', \n",
    "          'high temperature', \n",
    "          'hoarse voice', \n",
    "          'ibuprofen',\n",
    "          'loss of smell', \n",
    "          'loss of taste',\n",
    "          'loss of taste and smell',\n",
    "          'muscle pain',\n",
    "          'nasalcongestion',\n",
    "          'paracetamol',\n",
    "          'runny nose',\n",
    "          'sneezing', \n",
    "          'sore throat',\n",
    "          'post nasal drip', \n",
    "          'coughing',\n",
    "          'nasal passages',\n",
    "          'antipyretics',\n",
    "          'ear thermometer', \n",
    "          'earache', \n",
    "          'fatigue',\n",
    "          'feverish',\n",
    "          'high fever',\n",
    "          'respirator',\n",
    "          'stuffy nose',\n",
    "          'thermometer',\n",
    "          'upper respiratory infection'\n",
    "         ]\n",
    "\n",
    "x_train = train[features]\n",
    "y_train = train['rates'].values\n",
    "\n",
    "\n",
    "x_valid = valid[features]\n",
    "y_valid = valid['rates'].values"
   ]
  },
  {
   "cell_type": "code",
   "execution_count": 1,
   "metadata": {
    "collapsed": false,
    "scrolled": false
   },
   "outputs": [],
   "source": [
    "#train.corr(method='pearson')"
   ]
  },
  {
   "cell_type": "markdown",
   "metadata": {
    "collapsed": false
   },
   "source": [
    "### Least Square"
   ]
  },
  {
   "cell_type": "code",
   "execution_count": 10,
   "metadata": {
    "collapsed": true
   },
   "outputs": [],
   "source": [
    "from sklearn.linear_model import LinearRegression\n",
    "lr = LinearRegression(fit_intercept=True, normalize=False, copy_X=True, n_jobs=1)\n",
    "lr.fit(x_train, y_train)\n",
    "y_pred2 = lr.fit(x_train, y_train).predict(x_valid)"
   ]
  },
  {
   "cell_type": "code",
   "execution_count": 16,
   "metadata": {
    "collapsed": false
   },
   "outputs": [
    {
     "name": "stdout",
     "output_type": "stream",
     "text": [
      "lr picked 41 variables and eliminated the other 0 variables\n"
     ]
    },
    {
     "data": {
      "text/plain": [
       "<matplotlib.text.Text at 0x11cf586d8>"
      ]
     },
     "execution_count": 16,
     "metadata": {},
     "output_type": "execute_result"
    },
    {
     "data": {
      "image/png": "[encoded data removed]",
      "text/plain": [
       "<matplotlib.figure.Figure at 0x11cec7978>"
      ]
     },
     "metadata": {},
     "output_type": "display_data"
    }
   ],
   "source": [
    "coef = pd.Series(lr.coef_, index = x_train.columns)\n",
    "#imp_coef = pd.concat([coef.sort_values().head(10),\n",
    "                     #coef.sort_values().tail(10)])\n",
    "print(\"lr picked \" + str(sum(coef != 0)) + \" variables and eliminated the other \" + \n",
    "      str(sum(coef == 0)) + \" variables\")\n",
    "imp_coef = pd.concat([coef.sort_values()])\n",
    "plt.rcParams['figure.figsize'] = (8.0, 10.0)\n",
    "imp_coef.plot(kind = \"barh\")\n",
    "plt.title(\"Coefficients in the linear lesat square regression for training year 2004-2013\")"
   ]
  },
  {
   "cell_type": "markdown",
   "metadata": {},
   "source": [
    "### Elastic Net"
   ]
  },
  {
   "cell_type": "code",
   "execution_count": 12,
   "metadata": {
    "collapsed": false
   },
   "outputs": [],
   "source": [
    "from sklearn.linear_model import ElasticNet\n",
    "enet = ElasticNet(alpha=1.0, l1_ratio=0.3,fit_intercept=False,max_iter=10000,tol=0.00001,normalize=False)\n",
    "enet.fit(x_train, y_train)\n",
    "y_pred = enet.fit(x_train, y_train).predict(x_valid)"
   ]
  },
  {
   "cell_type": "code",
   "execution_count": 10,
   "metadata": {
    "collapsed": true
   },
   "outputs": [],
   "source": [
    "y2014 = pd.DataFrame(y_pred, columns = ['predicted rate'])\n",
    "y2014.to_csv('y2014.csv')"
   ]
  },
  {
   "cell_type": "markdown",
   "metadata": {},
   "source": [
    "### Grid Search"
   ]
  },
  {
   "cell_type": "code",
   "execution_count": 11,
   "metadata": {
    "collapsed": false
   },
   "outputs": [
    {
     "data": {
      "text/plain": [
       "GridSearchCV(cv=10, error_score='raise',\n",
       "       estimator=ElasticNet(alpha=1.0, copy_X=True, fit_intercept=False, l1_ratio=0.5,\n",
       "      max_iter=10000, normalize=False, positive=False, precompute=False,\n",
       "      random_state=None, selection='cyclic', tol=1e-05, warm_start=False),\n",
       "       fit_params={}, iid=True, n_jobs=1,\n",
       "       param_grid={'alpha': [1], 'l1_ratio': [0.3]},\n",
       "       pre_dispatch='2*n_jobs', refit=True, return_train_score=True,\n",
       "       scoring='neg_mean_squared_error', verbose=0)"
      ]
     },
     "execution_count": 11,
     "metadata": {},
     "output_type": "execute_result"
    }
   ],
   "source": [
    "from sklearn.linear_model import ElasticNet\n",
    "from sklearn.model_selection import GridSearchCV\n",
    "#parameters = {'alpha': [0,10,20,30,40,50,60,70,80,90,100],'l1_ratio':[0,0.1,0.2,0.3,0.4,0.5,0.6,0.7,0.8,0.9,1] }\n",
    "#parameters = {'alpha': [0,50,100],'l1_ratio':np.arange(0,1,0.1) }\n",
    "#parameters = {'alpha': np.arange (0,100,1),'l1_ratio':np.arange(0,1,0.1)}\n",
    "parameters = {'alpha': [1],'l1_ratio':[0.3] } #last week\n",
    "#parameters = {'alpha': [5],'l1_ratio':[0.01] }\n",
    "#parameters = {'alpha': np.arange (0,100,0.1),'l1_ratio':np.arange(0,1,0.1)}\n",
    "clf = GridSearchCV(ElasticNet(fit_intercept=False,max_iter=10000,tol=0.00001,normalize=False),parameters,scoring='neg_mean_squared_error',cv=10)\n",
    "clf.fit(x_train, y_train)"
   ]
  },
  {
   "cell_type": "code",
   "execution_count": 12,
   "metadata": {
    "collapsed": true
   },
   "outputs": [],
   "source": [
    "y_pred = clf.predict(x_valid)"
   ]
  },
  {
   "cell_type": "code",
   "execution_count": 13,
   "metadata": {
    "collapsed": false
   },
   "outputs": [
    {
     "data": {
      "text/plain": [
       "{'alpha': 1, 'l1_ratio': 0.3}"
      ]
     },
     "execution_count": 13,
     "metadata": {},
     "output_type": "execute_result"
    }
   ],
   "source": [
    "clf.best_params_"
   ]
  },
  {
   "cell_type": "markdown",
   "metadata": {},
   "source": [
    "### Correlation"
   ]
  },
  {
   "cell_type": "code",
   "execution_count": 52,
   "metadata": {
    "collapsed": false
   },
   "outputs": [
    {
     "data": {
      "text/plain": [
       "array([[ 1.        ,  0.90764678],\n",
       "       [ 0.90764678,  1.        ]])"
      ]
     },
     "execution_count": 52,
     "metadata": {},
     "output_type": "execute_result"
    }
   ],
   "source": [
    "np.corrcoef(y_pred, y_valid)"
   ]
  },
  {
   "cell_type": "code",
   "execution_count": 53,
   "metadata": {
    "collapsed": false
   },
   "outputs": [
    {
     "data": {
      "text/plain": [
       "array([[ 1.        ,  0.87073986],\n",
       "       [ 0.87073986,  1.        ]])"
      ]
     },
     "execution_count": 53,
     "metadata": {},
     "output_type": "execute_result"
    }
   ],
   "source": [
    "np.corrcoef(y_pred2, y_valid)"
   ]
  },
  {
   "cell_type": "markdown",
   "metadata": {},
   "source": [
    "### RMSE"
   ]
  },
  {
   "cell_type": "code",
   "execution_count": 54,
   "metadata": {
    "collapsed": false
   },
   "outputs": [
    {
     "name": "stdout",
     "output_type": "stream",
     "text": [
      "Elastic Net RMSE: 24.4949\n"
     ]
    }
   ],
   "source": [
    "print('Elastic Net RMSE: %.4f'% np.sqrt(sum((y_pred-y_valid)**2)/len(valid)))"
   ]
  },
  {
   "cell_type": "code",
   "execution_count": 13,
   "metadata": {
    "collapsed": false
   },
   "outputs": [
    {
     "name": "stdout",
     "output_type": "stream",
     "text": [
      "Elastic Net RMSE: 29.0913\n"
     ]
    }
   ],
   "source": [
    "print('Elastic Net RMSE: %.4f'% np.sqrt(sum((y_pred-y_valid)**2)/len(valid)))"
   ]
  },
  {
   "cell_type": "code",
   "execution_count": 55,
   "metadata": {
    "collapsed": false
   },
   "outputs": [
    {
     "name": "stdout",
     "output_type": "stream",
     "text": [
      "Least Square RMSE: 29.3761\n"
     ]
    }
   ],
   "source": [
    "print('Least Square RMSE: %.4f'% np.sqrt(sum((y_pred2-y_valid)**2)/len(valid)))"
   ]
  },
  {
   "cell_type": "markdown",
   "metadata": {},
   "source": [
    "### MAE"
   ]
  },
  {
   "cell_type": "code",
   "execution_count": 56,
   "metadata": {
    "collapsed": false
   },
   "outputs": [
    {
     "data": {
      "text/plain": [
       "18.034648381929017"
      ]
     },
     "execution_count": 56,
     "metadata": {},
     "output_type": "execute_result"
    }
   ],
   "source": [
    "from sklearn.metrics import mean_absolute_error\n",
    "mean_absolute_error(y_valid,y_pred)"
   ]
  },
  {
   "cell_type": "code",
   "execution_count": 57,
   "metadata": {
    "collapsed": false
   },
   "outputs": [
    {
     "data": {
      "text/plain": [
       "23.940831388188879"
      ]
     },
     "execution_count": 57,
     "metadata": {},
     "output_type": "execute_result"
    }
   ],
   "source": [
    "from sklearn.metrics import mean_absolute_error\n",
    "mean_absolute_error(y_valid, y_pred2)"
   ]
  },
  {
   "cell_type": "markdown",
   "metadata": {},
   "source": [
    "### MAPE"
   ]
  },
  {
   "cell_type": "code",
   "execution_count": 62,
   "metadata": {
    "collapsed": true
   },
   "outputs": [],
   "source": [
    "def mean_absolute_percentage_error(y_valid, y_pred): \n",
    "    y_valid, y_pred = np.array(y_valid), np.array(y_pred)\n",
    "    return np.mean(np.abs((y_valid - y_pred) / y_valid)) * 100"
   ]
  },
  {
   "cell_type": "code",
   "execution_count": 63,
   "metadata": {
    "collapsed": false
   },
   "outputs": [
    {
     "data": {
      "text/plain": [
       "15.72579540289912"
      ]
     },
     "execution_count": 63,
     "metadata": {},
     "output_type": "execute_result"
    }
   ],
   "source": [
    "mean_absolute_percentage_error(y_pred,y_valid)"
   ]
  },
  {
   "cell_type": "code",
   "execution_count": 64,
   "metadata": {
    "collapsed": false
   },
   "outputs": [
    {
     "data": {
      "text/plain": [
       "27.18831919185487"
      ]
     },
     "execution_count": 64,
     "metadata": {},
     "output_type": "execute_result"
    }
   ],
   "source": [
    "mean_absolute_percentage_error(y_valid, y_pred2)"
   ]
  },
  {
   "cell_type": "markdown",
   "metadata": {},
   "source": [
    "### Plot Weights"
   ]
  },
  {
   "cell_type": "code",
   "execution_count": 14,
   "metadata": {
    "collapsed": false
   },
   "outputs": [
    {
     "name": "stdout",
     "output_type": "stream",
     "text": [
      "Elastic Net picked 41 variables and eliminated the other 0 variables\n"
     ]
    },
    {
     "data": {
      "text/plain": [
       "<matplotlib.text.Text at 0x11ca766d8>"
      ]
     },
     "execution_count": 14,
     "metadata": {},
     "output_type": "execute_result"
    },
    {
     "data": {
      "image/png": "[encoded data removed]",
      "text/plain": [
       "<matplotlib.figure.Figure at 0x11be5a4e0>"
      ]
     },
     "metadata": {},
     "output_type": "display_data"
    }
   ],
   "source": [
    "coef = pd.Series(enet.coef_, index = x_train.columns)\n",
    "#imp_coef = pd.concat([coef.sort_values().head(10),\n",
    "                     #coef.sort_values().tail(10)])\n",
    "print(\"Elastic Net picked \" + str(sum(coef != 0)) + \" variables and eliminated the other \" + \n",
    "      str(sum(coef == 0)) + \" variables\")\n",
    "imp_coef = pd.concat([coef.sort_values()])\n",
    "plt.rcParams['figure.figsize'] = (8.0, 10.0)\n",
    "imp_coef.plot(kind = \"barh\")\n",
    "plt.title(\"Coefficients in the Elastic Net Model for training year 2004-2013\")"
   ]
  },
  {
   "cell_type": "code",
   "execution_count": 65,
   "metadata": {
    "collapsed": false
   },
   "outputs": [
    {
     "data": {
      "image/png": "[encoded data removed]",
      "text/plain": [
       "<matplotlib.figure.Figure at 0x11c2bc160>"
      ]
     },
     "metadata": {},
     "output_type": "display_data"
    }
   ],
   "source": [
    "L=data.index[522:574]\n",
    "df = pd.DataFrame(data=y_pred, index=L,columns=[\"predicted rate\"])\n",
    "df1 = pd.DataFrame(data=y_valid, index=L,columns=[\"rates\"])\n",
    "df2 = pd.DataFrame(data=y_pred2, index=L,columns=[\"predicted rate\"])\n",
    "plt.figure(figsize=(8.5,4.5))\n",
    "\n",
    "line_up, = plt.plot(df, label='Elastic Net',ls='dashed',c='red')\n",
    "line_middle,=plt.plot(df2, label='Least Square Regression',ls='dashdot',c='blue')\n",
    "line_down, = plt.plot(df1, label='True common_cold Rate',ls='solid',c='green')\n",
    "plt.legend(handles=[line_up,line_middle, line_down])\n",
    "\n",
    "#plt.title('Data from 2004 to 2009 to make the prediction of 2010, RMSE: %.4f'% np.sqrt(sum((y_pred-y_valid)**2)/len(valid)))\n",
    "plt.title('Data from 2004 to 2013 to make the prediction of 2014')\n",
    "plt.ylabel('common_cold rates per 100,000 people')\n",
    "plt.xlabel('testing year')\n",
    "plt.ylim((0, 300))\n",
    "\n",
    "pyplot.show()"
   ]
  },
  {
   "cell_type": "code",
   "execution_count": null,
   "metadata": {
    "collapsed": true
   },
   "outputs": [],
   "source": []
  }
 ],
 "metadata": {
  "anaconda-cloud": {},
  "kernelspec": {
   "display_name": "Python 3",
   "language": "python",
   "name": "python3"
  },
  "language_info": {
   "codemirror_mode": {
    "name": "ipython",
    "version": 3
   },
   "file_extension": ".py",
   "mimetype": "text/x-python",
   "name": "python",
   "nbconvert_exporter": "python",
   "pygments_lexer": "ipython3",
   "version": "3.6.0"
  }
 },
 "nbformat": 4,
 "nbformat_minor": 1
}
